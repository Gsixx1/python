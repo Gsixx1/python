{
 "cells": [
  {
   "cell_type": "code",
   "execution_count": 1,
   "id": "0709c2b4",
   "metadata": {
    "collapsed": true,
    "jupyter": {
     "outputs_hidden": true,
     "source_hidden": true
    },
    "tags": []
   },
   "outputs": [
    {
     "name": "stdout",
     "output_type": "stream",
     "text": [
      "Hello and thank you for installing me\n"
     ]
    }
   ],
   "source": [
    "print(\"Hello and thank you for installing me\")"
   ]
  },
  {
   "cell_type": "markdown",
   "id": "7a237130",
   "metadata": {
    "jupyter": {
     "source_hidden": true
    },
    "tags": []
   },
   "source": [
    "## ANALYSING CODE SAMPLES"
   ]
  },
  {
   "cell_type": "markdown",
   "id": "ef991b45",
   "metadata": {
    "jupyter": {
     "source_hidden": true
    },
    "tags": []
   },
   "source": [
    "##### Finding the largest of two numbers"
   ]
  },
  {
   "cell_type": "code",
   "execution_count": 3,
   "id": "451b934e",
   "metadata": {
    "collapsed": true,
    "jupyter": {
     "outputs_hidden": true,
     "source_hidden": true
    },
    "tags": []
   },
   "outputs": [
    {
     "name": "stdout",
     "output_type": "stream",
     "text": [
      "Enter the first number: 12\n",
      "Enter the second number: 5\n",
      "The larger number is: 12\n"
     ]
    }
   ],
   "source": [
    "number1 = int(input(\"Enter the first number: \"))\n",
    "number2 = int(input(\"Enter the second number: \"))\n",
    "\n",
    "#Choose the Larger number\n",
    "if number1 > number2:\n",
    "    larger_number = number1\n",
    "else:\n",
    "    larger_number = number2\n",
    "    \n",
    "#Print the result\n",
    "print(\"The larger number is:\", larger_number)"
   ]
  },
  {
   "cell_type": "markdown",
   "id": "6202fbca",
   "metadata": {},
   "source": [
    "#### Redoing the same Example above."
   ]
  },
  {
   "cell_type": "code",
   "execution_count": 4,
   "id": "f4da09a7",
   "metadata": {
    "collapsed": true,
    "jupyter": {
     "outputs_hidden": true,
     "source_hidden": true
    },
    "tags": []
   },
   "outputs": [
    {
     "name": "stdout",
     "output_type": "stream",
     "text": [
      "Enter the first number: 16\n",
      "Enter the second number: 1\n",
      "The larger number is: 16\n"
     ]
    }
   ],
   "source": [
    "number1 = int(input(\"Enter the first number: \"))\n",
    "number2 = int(input(\"Enter the second number: \"))\n",
    "\n",
    "#Choose the larger number\n",
    "if number1 > number2: larger_number = number1\n",
    "else: larger_number = number2\n",
    "    \n",
    "#Print the result\n",
    "print(\"The larger number is:\", larger_number)"
   ]
  },
  {
   "cell_type": "markdown",
   "id": "57b12efe",
   "metadata": {},
   "source": [
    "### Finding the largest of three numbers"
   ]
  },
  {
   "cell_type": "code",
   "execution_count": 5,
   "id": "51ad27f7",
   "metadata": {
    "collapsed": true,
    "jupyter": {
     "outputs_hidden": true,
     "source_hidden": true
    },
    "tags": []
   },
   "outputs": [
    {
     "name": "stdout",
     "output_type": "stream",
     "text": [
      "Enter the first number: 12\n",
      "Enter the second number: 17\n",
      "Enter the third number: 90\n",
      "The largest number is: 90\n"
     ]
    }
   ],
   "source": [
    "# Read three numbers\n",
    "number1 = int(input(\"Enter the first number: \"))\n",
    "number2 = int(input(\"Enter the second number: \"))\n",
    "number3 = int(input(\"Enter the third number: \"))\n",
    "\n",
    "# We temporarily assume that the first number\n",
    "# is the largest one.\n",
    "# We will verify this soon.\n",
    "largest_number = number1\n",
    "\n",
    "# We check if the second number is larger than the current largest_number\n",
    "# and update the largest_number if needed.\n",
    "if number2 > largest_number:\n",
    "    largest_number = number2\n",
    "\n",
    "# We check if the third number is larger than the current largest_number\n",
    "# and we updatae the largest_number if needed.\n",
    "if number3 > largest_number:\n",
    "    largest_number = number3\n",
    "    \n",
    "# Print the result\n",
    "print(\"The largest number is:\", largest_number)"
   ]
  },
  {
   "cell_type": "markdown",
   "id": "5254ff0d",
   "metadata": {},
   "source": [
    "###### Using MAX FxN"
   ]
  },
  {
   "cell_type": "code",
   "execution_count": 12,
   "id": "21e8dd6e",
   "metadata": {
    "collapsed": true,
    "jupyter": {
     "outputs_hidden": true,
     "source_hidden": true
    },
    "tags": []
   },
   "outputs": [
    {
     "name": "stdout",
     "output_type": "stream",
     "text": [
      "Enter the first number: 6\n",
      "Enter the second number: 9\n",
      "Enter the third number: 2\n",
      "The largest number is:  9\n"
     ]
    }
   ],
   "source": [
    "number1 = int(input(\"Enter the first number: \"))\n",
    "number2 = int(input(\"Enter the second number: \"))\n",
    "number3 = int(input(\"Enter the third number: \"))\n",
    "\n",
    "largest_number = max(number1, number2, number3)\n",
    "print(\"The largest number is: \", largest_number)"
   ]
  },
  {
   "cell_type": "markdown",
   "id": "84295069",
   "metadata": {},
   "source": [
    "###### Using MIN FxN"
   ]
  },
  {
   "cell_type": "code",
   "execution_count": 14,
   "id": "c35cfcb0",
   "metadata": {
    "collapsed": true,
    "jupyter": {
     "outputs_hidden": true,
     "source_hidden": true
    },
    "tags": []
   },
   "outputs": [
    {
     "name": "stdout",
     "output_type": "stream",
     "text": [
      "Enter the first number: 9\n",
      "Enter the second number: 8\n",
      "Enter the third number: 0\n",
      "The smallest number is:  0\n"
     ]
    }
   ],
   "source": [
    "number1 = int(input(\"Enter the first number: \"))\n",
    "number2 = int(input(\"Enter the second number: \"))\n",
    "number3 = int(input(\"Enter the third number: \"))\n",
    "\n",
    "largest_number = min(number1, number2, number3)\n",
    "print(\"The smallest number is: \", largest_number)"
   ]
  },
  {
   "cell_type": "markdown",
   "id": "9259f6ad",
   "metadata": {},
   "source": [
    "#### Writing my own program"
   ]
  },
  {
   "cell_type": "code",
   "execution_count": 11,
   "id": "8d6b33b4",
   "metadata": {
    "collapsed": true,
    "jupyter": {
     "outputs_hidden": true,
     "source_hidden": true
    },
    "tags": []
   },
   "outputs": [
    {
     "ename": "SyntaxError",
     "evalue": "invalid syntax (642436691.py, line 10)",
     "output_type": "error",
     "traceback": [
      "\u001b[1;36m  Cell \u001b[1;32mIn[11], line 10\u001b[1;36m\u001b[0m\n\u001b[1;33m    else:\u001b[0m\n\u001b[1;37m    ^\u001b[0m\n\u001b[1;31mSyntaxError\u001b[0m\u001b[1;31m:\u001b[0m invalid syntax\n"
     ]
    }
   ],
   "source": [
    "number1 = int(input(\"Your first number please: \"))\n",
    "number2 = int(input(\"Your first second number please: \"))\n",
    "number3 = int(input(\"Your first third number please: \"))\n",
    "\n",
    "if number1 > number2:\n",
    "    largest_number = number1\n",
    "else:\n",
    "    if number2 > largest_number:\n",
    "        largest_number = number2\n",
    "else:\n",
    "    if number3 > largest_number:\n",
    "        largest_number = number3"
   ]
  },
  {
   "cell_type": "markdown",
   "id": "8ce9b7af",
   "metadata": {},
   "source": [
    "### LAB EXERCISE"
   ]
  },
  {
   "cell_type": "code",
   "execution_count": 21,
   "id": "b77ffb49",
   "metadata": {
    "collapsed": true,
    "jupyter": {
     "outputs_hidden": true,
     "source_hidden": true
    },
    "tags": []
   },
   "outputs": [
    {
     "name": "stdout",
     "output_type": "stream",
     "text": [
      "pelargonium\n",
      "Spathiphyllum! Not  pelargonium\n"
     ]
    }
   ],
   "source": [
    "plant = input()\n",
    "\n",
    "if plant == \"Spathiphyllum\":\n",
    "    print(\"Yes - Spathiphyllum is the best plant ever\")\n",
    "elif plant == \"spathiphyllum\":\n",
    "    print(\"No, I want a big Spathiphyllum!\")\n",
    "else:\n",
    "    print(\"Spathiphyllum! Not \", plant)"
   ]
  },
  {
   "cell_type": "markdown",
   "id": "76357579",
   "metadata": {},
   "source": [
    "### LAB Question, Creating a Tax calculator"
   ]
  },
  {
   "cell_type": "code",
   "execution_count": 25,
   "id": "bb508c11",
   "metadata": {
    "collapsed": true,
    "jupyter": {
     "outputs_hidden": true,
     "source_hidden": true
    },
    "tags": []
   },
   "outputs": [
    {
     "name": "stdout",
     "output_type": "stream",
     "text": [
      "10000\n",
      "The tax is:  1243.98 thalers\n"
     ]
    }
   ],
   "source": [
    "#this is the income of the tax-payer\n",
    "income = round(float(input()))\n",
    "\n",
    "#tax payable if income is greater than 85528 thalers.\n",
    "if income < 85528:\n",
    "    tax = 0.18 * income\n",
    "    tax = tax - 556.02\n",
    "    print(\"The tax is: \", tax, \"thalers\")\n",
    "else:\n",
    "    tax = 14839.02 + input - 85528\n",
    "    print(\"The tax is: \", tax, \"thalers\")"
   ]
  },
  {
   "cell_type": "markdown",
   "id": "3829ad30",
   "metadata": {},
   "source": [
    "#### Program to validate the Gregorian calender"
   ]
  },
  {
   "cell_type": "code",
   "execution_count": 10,
   "id": "4c3d3271",
   "metadata": {
    "collapsed": true,
    "jupyter": {
     "outputs_hidden": true,
     "source_hidden": true
    },
    "tags": []
   },
   "outputs": [
    {
     "name": "stdout",
     "output_type": "stream",
     "text": [
      "Enter a year: 1996\n",
      "Leap year\n"
     ]
    }
   ],
   "source": [
    "year = int(input(\"Enter a year: \"))\n",
    "\n",
    "if year < 1582:\n",
    "    print(\"Not within the Gregorian calender period\")\n",
    "elif year % 4 != 0:\n",
    "    print(\"Common year\")\n",
    "elif year % 100 != 0:\n",
    "    print(\"Leap year\")\n",
    "elif year % 400 != 0:\n",
    "    print(\"Common year\")\n",
    "else:\n",
    "    print(\"Leap year\")"
   ]
  },
  {
   "cell_type": "code",
   "execution_count": 1,
   "id": "c5b6a40f-ce9a-420b-857a-74656c3cdd6d",
   "metadata": {
    "collapsed": true,
    "jupyter": {
     "outputs_hidden": true,
     "source_hidden": true
    },
    "tags": []
   },
   "outputs": [
    {
     "name": "stdin",
     "output_type": "stream",
     "text": [
      "Enter a number or type 0 to stop:  2\n",
      "Enter a number or type 0 to stop:  9\n"
     ]
    },
    {
     "name": "stdout",
     "output_type": "stream",
     "text": [
      "Odd numbers count: 0\n",
      "Even numbers count: 1\n"
     ]
    },
    {
     "name": "stdin",
     "output_type": "stream",
     "text": [
      "Enter a number or type 0 to stop:  5\n"
     ]
    },
    {
     "name": "stdout",
     "output_type": "stream",
     "text": [
      "Odd numbers count: 1\n",
      "Even numbers count: 1\n"
     ]
    },
    {
     "name": "stdin",
     "output_type": "stream",
     "text": [
      "Enter a number or type 0 to stop:  7\n"
     ]
    },
    {
     "name": "stdout",
     "output_type": "stream",
     "text": [
      "Odd numbers count: 2\n",
      "Even numbers count: 1\n"
     ]
    },
    {
     "name": "stdin",
     "output_type": "stream",
     "text": [
      "Enter a number or type 0 to stop:  3\n"
     ]
    },
    {
     "name": "stdout",
     "output_type": "stream",
     "text": [
      "Odd numbers count: 3\n",
      "Even numbers count: 1\n"
     ]
    },
    {
     "name": "stdin",
     "output_type": "stream",
     "text": [
      "Enter a number or type 0 to stop:  8\n"
     ]
    },
    {
     "name": "stdout",
     "output_type": "stream",
     "text": [
      "Odd numbers count: 4\n",
      "Even numbers count: 1\n"
     ]
    },
    {
     "name": "stdin",
     "output_type": "stream",
     "text": [
      "Enter a number or type 0 to stop:  2\n"
     ]
    },
    {
     "name": "stdout",
     "output_type": "stream",
     "text": [
      "Odd numbers count: 4\n",
      "Even numbers count: 2\n"
     ]
    },
    {
     "name": "stdin",
     "output_type": "stream",
     "text": [
      "Enter a number or type 0 to stop:  8\n"
     ]
    },
    {
     "name": "stdout",
     "output_type": "stream",
     "text": [
      "Odd numbers count: 4\n",
      "Even numbers count: 3\n"
     ]
    },
    {
     "name": "stdin",
     "output_type": "stream",
     "text": [
      "Enter a number or type 0 to stop:  12\n"
     ]
    },
    {
     "name": "stdout",
     "output_type": "stream",
     "text": [
      "Odd numbers count: 4\n",
      "Even numbers count: 4\n"
     ]
    },
    {
     "name": "stdin",
     "output_type": "stream",
     "text": [
      "Enter a number or type 0 to stop:  0\n"
     ]
    },
    {
     "name": "stdout",
     "output_type": "stream",
     "text": [
      "Odd numbers count: 4\n",
      "Even numbers count: 5\n"
     ]
    }
   ],
   "source": [
    "odd_numbers = 0\n",
    "even_numbers = 0\n",
    "#read the first number.\n",
    "number = int(input(\"Enter a number or type 0 to stop: \"))\n",
    "# 0 terminates execution.\n",
    "while number != 0:\n",
    "    #check if the number is odd.\n",
    "    if number % 2 == 1:\n",
    "        #Increase the odd_numbers counter.\n",
    "        odd_numbers += 1\n",
    "    else:\n",
    "        #Increase the even_numbers counter.\n",
    "        even_numbers += 1\n",
    "    # Read the next number.\n",
    "    number = int(input(\"Enter a number or type 0 to stop: \"))\n",
    "    \n",
    "    # Print results\n",
    "    print(\"Odd numbers count:\", odd_numbers)\n",
    "    print(\"Even numbers count:\", even_numbers)"
   ]
  },
  {
   "cell_type": "code",
   "execution_count": 5,
   "id": "64df8902-e1d1-4553-839b-51407979d4a1",
   "metadata": {
    "collapsed": true,
    "jupyter": {
     "outputs_hidden": true,
     "source_hidden": true
    },
    "tags": []
   },
   "outputs": [
    {
     "name": "stdin",
     "output_type": "stream",
     "text": [
      "Enter an integer please:  777\n"
     ]
    },
    {
     "name": "stdout",
     "output_type": "stream",
     "text": [
      "Well done, muggle! You are free now.\n"
     ]
    }
   ],
   "source": [
    "number_given = int(input(\"Enter an integer please: \"))\n",
    "secret_number = 777\n",
    "\n",
    "while number_given != secret_number:\n",
    "    if secret_number == number_given:\n",
    "        print(\"Well done, muggle! You are free now.\")\n",
    "    print()\n",
    "    "
   ]
  },
  {
   "cell_type": "code",
   "execution_count": 7,
   "id": "e192713f-3cf4-4556-aa10-7aaaf0db6da4",
   "metadata": {
    "collapsed": true,
    "jupyter": {
     "outputs_hidden": true,
     "source_hidden": true
    },
    "tags": []
   },
   "outputs": [
    {
     "name": "stdout",
     "output_type": "stream",
     "text": [
      "hello 0\n",
      "hello 1\n",
      "hello 2\n",
      "hello 3\n",
      "hello 4\n",
      "hello 5\n",
      "hello 6\n",
      "hello 7\n",
      "hello 8\n",
      "hello 9\n"
     ]
    }
   ],
   "source": [
    "for i in range(12):\n",
    "    print(\"hello\", i)\n",
    "    i -=1"
   ]
  },
  {
   "cell_type": "code",
   "execution_count": 1,
   "id": "4e9b4d85-a062-4d3e-b846-807be21945d6",
   "metadata": {
    "collapsed": true,
    "jupyter": {
     "outputs_hidden": true,
     "source_hidden": true
    },
    "tags": []
   },
   "outputs": [
    {
     "name": "stdout",
     "output_type": "stream",
     "text": [
      "hello 0\n",
      "hello 1\n",
      "hello 2\n",
      "hello 3\n",
      "hello 4\n",
      "hello 5\n"
     ]
    }
   ],
   "source": [
    "i = 0\n",
    "while i <= 5:\n",
    "    print(\"hello\", i)\n",
    "    i +=1"
   ]
  },
  {
   "cell_type": "code",
   "execution_count": 6,
   "id": "a6b8c848-9bae-490d-9e4f-2ae5a2d90cfd",
   "metadata": {},
   "outputs": [
    {
     "name": "stdout",
     "output_type": "stream",
     "text": [
      "0 Missippi\n",
      "1 Missippi\n",
      "2 Missippi\n",
      "3 Missippi\n",
      "4 Missippi\n",
      "5 Missippi\n",
      "Ready or not, here I come!\n"
     ]
    }
   ],
   "source": [
    "import time\n",
    "\n",
    "for i in range(6):\n",
    "        print(i,\"Missippi\")\n",
    "        time.sleep(1)\n",
    "print(\"Ready or not, here I come!\")"
   ]
  },
  {
   "cell_type": "code",
   "execution_count": 18,
   "id": "85777d80-caf3-4edd-8286-58cceac3687e",
   "metadata": {},
   "outputs": [
    {
     "name": "stdout",
     "output_type": "stream",
     "text": [
      "hi 2\n",
      "hi 3\n",
      "hi 4\n",
      "hi 5\n",
      "I can't prin't 6\n"
     ]
    }
   ],
   "source": [
    "for i in range(2, 10):    \n",
    "    if i == 6:        \n",
    "        break\n",
    "    print(\"hi\", i)\n",
    "print(\"I can't prin't 6\")"
   ]
  },
  {
   "cell_type": "code",
   "execution_count": 20,
   "id": "c9bdf17a-2a80-47fa-bfad-5cb060027830",
   "metadata": {},
   "outputs": [
    {
     "name": "stdout",
     "output_type": "stream",
     "text": [
      "I passed the test 1\n",
      "I passed the test 2\n",
      "I passed the test 3\n",
      "I passed the test 4\n",
      "I passed the test 5\n",
      "I passed the test 7\n",
      "K is not 5 that's why am printed 5\n",
      "L 1\n",
      "L 2\n",
      "L 3\n"
     ]
    }
   ],
   "source": [
    "for j in range(1, 8):\n",
    "    if j == 6:\n",
    "        continue\n",
    "    print(\"I passed the test\", j)\n",
    "for k in range(3, 9):\n",
    "    if k != 5:\n",
    "        continue\n",
    "    print(\"K is not 5 that's why am printed\", k)\n",
    "for l in range(1, 6):\n",
    "    if l == 4:\n",
    "        break\n",
    "    print(\"L\",l)"
   ]
  },
  {
   "cell_type": "markdown",
   "id": "cd9c56e9-0637-4bdc-b992-5bfce820c68b",
   "metadata": {
    "tags": []
   },
   "source": [
    "### Chupacabra Example with while loop"
   ]
  },
  {
   "cell_type": "code",
   "execution_count": 22,
   "id": "c6ad2b09-a3d0-420c-a817-f4e3ababe8d3",
   "metadata": {},
   "outputs": [
    {
     "name": "stdin",
     "output_type": "stream",
     "text": [
      "Enter a word:  hassan\n",
      "Enter a word:  joe\n",
      "Enter a word:  brian\n",
      "Enter a word:  chupacabra\n"
     ]
    },
    {
     "name": "stdout",
     "output_type": "stream",
     "text": [
      "You've successfully left the loop.\n"
     ]
    }
   ],
   "source": [
    "word = input(\"Enter a word: \") # input a random word\n",
    "while True: #program will always come back to execute when True\n",
    "    if word == \"chupacabra\": # Condition\n",
    "        break #if the condition above is met the program will go out of the loop\n",
    "    word = input(\"Enter a word: \") # the program asks for another word again and goes up to the while condition again\n",
    "print(\"You've successfully left the loop.\") # this is fullfilled if the program goes  out of the loop"
   ]
  },
  {
   "cell_type": "code",
   "execution_count": 32,
   "id": "aa863e96-da49-4a8b-b9d0-e18596afba80",
   "metadata": {},
   "outputs": [
    {
     "name": "stdout",
     "output_type": "stream",
     "text": [
      "3 is printed\n",
      "hello 3\n",
      "hello 4\n"
     ]
    }
   ],
   "source": [
    "k = 3\n",
    "if k == 3:\n",
    "    print(k, \"is printed\")\n",
    "for i in range(3, 12):\n",
    "    if i == 5:\n",
    "        break\n",
    "    print(\"hello\", i)"
   ]
  },
  {
   "cell_type": "markdown",
   "id": "de7b42b7-d830-4b97-8759-32a961a19753",
   "metadata": {},
   "source": [
    "### Vowel Eater"
   ]
  },
  {
   "cell_type": "code",
   "execution_count": 46,
   "id": "df20bbea-5851-4fb4-b548-e4b5b6b11e01",
   "metadata": {},
   "outputs": [
    {
     "name": "stdin",
     "output_type": "stream",
     "text": [
      "Input any word:  joe\n"
     ]
    },
    {
     "name": "stdout",
     "output_type": "stream",
     "text": [
      "JOE\n"
     ]
    }
   ],
   "source": [
    "input_word = input(\"Input any word: \")\n",
    "\n",
    "user_word = input_word\n",
    "user_word = user_word.upper()\n",
    "\n",
    "for letter in user_word:    \n",
    "    if letter == \"A\":\n",
    "        continue\n",
    "    elif letter == \"E\":\n",
    "        continue\n",
    "    elif letter == \"I\":\n",
    "        continue\n",
    "    elif letter == \"O\":\n",
    "        continue\n",
    "    elif letter == \"U\":\n",
    "        continue\n",
    "    print(user_word)"
   ]
  },
  {
   "cell_type": "code",
   "execution_count": 50,
   "id": "92d4a286-e6d1-461f-a939-206c8c19a929",
   "metadata": {},
   "outputs": [
    {
     "name": "stdin",
     "output_type": "stream",
     "text": [
      "Enter a word:  IOUEA\n"
     ]
    },
    {
     "name": "stdout",
     "output_type": "stream",
     "text": [
      "\n"
     ]
    }
   ],
   "source": [
    "word = input(\"Enter a word: \")\n",
    "\n",
    "word = word.upper()\n",
    "word_without_vowels =\"\"\n",
    "for letter in word:\n",
    "    if letter in (\"A\", \"E\", \"I\", \"O\", \"U\"):\n",
    "        continue\n",
    "    word_without_vowels += letter\n",
    "print(word_without_vowels)"
   ]
  },
  {
   "cell_type": "code",
   "execution_count": null,
   "id": "da763995-2489-45e0-860f-0decf4e05f8d",
   "metadata": {
    "tags": []
   },
   "outputs": [],
   "source": [
    "To code a vowel eater in Python, you can use a for loop to iterate over each letter in the user input and check if it is a vowel or not. If it is a vowel, you can use the continue statement to skip it and move on to the next letter. If it is not a vowel, you can use concatenation to add it to a new string that stores the word without vowels. Here is an example of how you can do that:\n",
    "\n",
    "# Prompt the user to enter a word\n",
    "user_word = input(\"Enter a word: \")\n",
    "\n",
    "# Convert the word to upper case\n",
    "user_word = user_word.upper()\n",
    "\n",
    "# Initialize an empty string for the word without vowels\n",
    "word_without_vowels = \"\"\n",
    "\n",
    "# Use a for loop to iterate over each letter in the word\n",
    "for letter in user_word:\n",
    "    # Use conditional execution to check if the letter is a vowel\n",
    "    if letter in (\"A\", \"E\", \"I\", \"O\", \"U\"):\n",
    "        # Use the continue statement to skip the vowel and move on to the next letter\n",
    "        continue\n",
    "    # Use concatenation to add the non-vowel letter to the new string\n",
    "    word_without_vowels += letter\n",
    "\n",
    "# Print the word without vowels\n",
    "print(word_without_vowels)\n"
   ]
  },
  {
   "cell_type": "code",
   "execution_count": 5,
   "id": "297834bf-fc71-4ca6-8c1b-9c3773ecf815",
   "metadata": {},
   "outputs": [
    {
     "name": "stdin",
     "output_type": "stream",
     "text": [
      "Give a new word:  bacidalfi\n"
     ]
    },
    {
     "name": "stdout",
     "output_type": "stream",
     "text": [
      "AIALI\n"
     ]
    }
   ],
   "source": [
    "input_word = input(\"Give a new word: \")\n",
    "input_word = input_word.upper()\n",
    "word_without_consonants = \"\"\n",
    "\n",
    "for letter in input_word:\n",
    "    if letter in (\"B\", \"C\",\"D\",\"F\"):\n",
    "        continue\n",
    "    word_without_consonants += letter\n",
    "print(word_without_consonants)    "
   ]
  },
  {
   "cell_type": "code",
   "execution_count": 7,
   "id": "02685280-1d86-442b-8209-7431a83623ad",
   "metadata": {},
   "outputs": [
    {
     "name": "stdout",
     "output_type": "stream",
     "text": [
      "Who Are You\n"
     ]
    }
   ],
   "source": [
    "import time\n",
    "print(\"who are you\".title())\n",
    "time.sleep(1)"
   ]
  },
  {
   "cell_type": "markdown",
   "id": "30f9c98d-13a5-4d44-b1a9-b5f905f38852",
   "metadata": {
    "tags": []
   },
   "source": [
    "## 3.2.17 SECTION QUIZ"
   ]
  },
  {
   "cell_type": "code",
   "execution_count": 11,
   "id": "25b8183b-d29d-43e3-b920-01f513bd29db",
   "metadata": {
    "tags": []
   },
   "outputs": [
    {
     "name": "stdout",
     "output_type": "stream",
     "text": [
      "1\n",
      "3\n",
      "5\n",
      "7\n",
      "9\n"
     ]
    }
   ],
   "source": [
    "# Question 1: Create a for loop that counts from 0 to 10, and prints odd numbers to the screen.\n",
    "# sets the range with a declaring variable\n",
    "for i in range(11):\n",
    "    # sets the condition for odd numbers only\n",
    "    if i % 2 != 0:\n",
    "        # print odd numbers only\n",
    "        print(i)\n",
    "\n"
   ]
  },
  {
   "cell_type": "code",
   "execution_count": 12,
   "id": "395da23c-748f-4d3d-aeb3-40fd8cdb06b7",
   "metadata": {},
   "outputs": [
    {
     "name": "stdout",
     "output_type": "stream",
     "text": [
      "1\n",
      "3\n",
      "5\n",
      "7\n",
      "9\n"
     ]
    }
   ],
   "source": [
    "# Question 2: Create a while loop that counts from 0 to 10, and prints odd numbers to the screen.\n",
    "x = 1 # variable declaration\n",
    "while x < 11:\n",
    "    if x % 2 != 0:\n",
    "        print(x)\n",
    "    x += 1"
   ]
  },
  {
   "cell_type": "code",
   "execution_count": 16,
   "id": "dca4c585-d25e-4d72-b8d0-64907be5597c",
   "metadata": {},
   "outputs": [
    {
     "name": "stdin",
     "output_type": "stream",
     "text": [
      "input email address:  hssnknnh@gmail.com\n"
     ]
    },
    {
     "name": "stdout",
     "output_type": "stream",
     "text": [
      "hssnknnh"
     ]
    }
   ],
   "source": [
    "# Question 3: Create a program with a FOR loop and a BREAK statement. \n",
    "#The program should iterate over characters in an email address, exit the loop when it reaches the @ symbol,\n",
    "# and print the part before @ on one line.\n",
    "\n",
    "email = input(\"input email address: \") #email address input\n",
    "for ch in email: #for loop condition\n",
    "    if ch == \"@\": # if condition to search for @\n",
    "        break # the program will stop execution or break out of the loop when ch iterates at @\n",
    "    print(ch, end=\"\") # this line will be executed when the if condition is not true"
   ]
  },
  {
   "cell_type": "code",
   "execution_count": 26,
   "id": "04ec15bb-1716-431f-9379-4353a4a147a8",
   "metadata": {},
   "outputs": [
    {
     "name": "stdout",
     "output_type": "stream",
     "text": [
      "x 1 6 5 x 3 1 8 x 6 5 1 x "
     ]
    }
   ],
   "source": [
    "# Question 4: Create a program with a for loop and a continue statement.\n",
    "# The program should iterate over a string of digits, replace each 0 with x,\n",
    "# and print the modified string to the screen.\n",
    "\n",
    "for digits in \"0165031806510\": # for loop declaration\n",
    "    if digits == 0: # if the iteration meets zero (0)\n",
    "        continue # the program must skip zero(0) and continue to the next line.\n",
    "    print(digits.replace(\"0\", \"x\"), end=\" \")\n",
    "#digits += x # digits should update with x if the IF criteria is false"
   ]
  },
  {
   "cell_type": "code",
   "execution_count": null,
   "id": "4f3405f4-d146-4315-b766-a507cf7e74cd",
   "metadata": {},
   "outputs": [],
   "source": []
  }
 ],
 "metadata": {
  "kernelspec": {
   "display_name": "Python 3 (ipykernel)",
   "language": "python",
   "name": "python3"
  },
  "language_info": {
   "codemirror_mode": {
    "name": "ipython",
    "version": 3
   },
   "file_extension": ".py",
   "mimetype": "text/x-python",
   "name": "python",
   "nbconvert_exporter": "python",
   "pygments_lexer": "ipython3",
   "version": "3.10.9"
  }
 },
 "nbformat": 4,
 "nbformat_minor": 5
}
